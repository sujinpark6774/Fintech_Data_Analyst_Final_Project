{
 "cells": [
  {
   "cell_type": "code",
   "execution_count": 1,
   "metadata": {},
   "outputs": [],
   "source": [
    "import pandas as pd\n",
    "import numpy as np\n",
    "import os\n",
    "import re\n",
    "\n",
    "# 시각화를 위한 패키지\n",
    "import matplotlib as mpl\n",
    "mpl.rcParams['axes.unicode_minus'] = False # '-' 깨짐 방지\n",
    "\n",
    "import matplotlib.pyplot as plt\n",
    "plt.rcParams[\"font.family\"] = 'Malgun Gothic' # 한글 깨짐 방지\n",
    "plt.rcParams[\"font.size\"] = 12\n",
    "plt.rcParams[\"figure.figsize\"] = (8, 6)\n",
    "%matplotlib inline\n",
    "\n",
    "import seaborn as sns\n",
    "# sns.set()\n",
    "\n",
    "# 결측값 시각화를 위한 패키지\n",
    "import missingno as msno"
   ]
  },
  {
   "cell_type": "code",
   "execution_count": 2,
   "metadata": {},
   "outputs": [
    {
     "data": {
      "text/plain": [
       "'C:\\\\workspace\\\\Python\\\\4-2) 핀테크 교육\\\\Final Project\\\\Project1'"
      ]
     },
     "execution_count": 2,
     "metadata": {},
     "output_type": "execute_result"
    }
   ],
   "source": [
    "os.getcwd()"
   ]
  },
  {
   "cell_type": "code",
   "execution_count": 3,
   "metadata": {},
   "outputs": [
    {
     "data": {
      "text/plain": [
       "'C:\\\\workspace\\\\Python\\\\4-2) 핀테크 교육\\\\Final Project\\\\Project1\\\\data'"
      ]
     },
     "execution_count": 3,
     "metadata": {},
     "output_type": "execute_result"
    }
   ],
   "source": [
    "os.chdir(r\".\\data\")\n",
    "os.getcwd()"
   ]
  },
  {
   "cell_type": "markdown",
   "metadata": {},
   "source": [
    "# 파일 통합"
   ]
  },
  {
   "cell_type": "markdown",
   "metadata": {},
   "source": [
    "## 교양오락문화생활비"
   ]
  },
  {
   "cell_type": "code",
   "execution_count": 4,
   "metadata": {},
   "outputs": [
    {
     "name": "stdout",
     "output_type": "stream",
     "text": [
      "(4000, 3)\n",
      "(4000, 3)\n",
      "(4000, 3)\n",
      "(1738, 3)\n"
     ]
    }
   ],
   "source": [
    "df1_1 = pd.read_excel(\"교양오락문화생활비_구독.xlsx\", encoding='CP949')\n",
    "df1_2 = pd.read_excel(\"교양오락문화생활비_책.xlsx\", encoding='CP949')\n",
    "df1_3 = pd.read_excel(\"교양오락문화생활비_핫플레이스.xlsx\", encoding='CP949')\n",
    "df1_4 = pd.read_excel(\"교양오락문화생활비_휴가비.xlsx\", encoding='CP949')\n",
    "\n",
    "print(df1_1.shape)\n",
    "print(df1_2.shape)\n",
    "print(df1_3.shape)\n",
    "print(df1_4.shape)"
   ]
  },
  {
   "cell_type": "code",
   "execution_count": 5,
   "metadata": {},
   "outputs": [
    {
     "data": {
      "text/plain": [
       "(13738, 3)"
      ]
     },
     "execution_count": 5,
     "metadata": {},
     "output_type": "execute_result"
    }
   ],
   "source": [
    "df1 = pd.concat([df1_1, df1_2, df1_3, df1_4], ignore_index=True)\n",
    "df1.shape"
   ]
  },
  {
   "cell_type": "code",
   "execution_count": 6,
   "metadata": {},
   "outputs": [
    {
     "data": {
      "text/html": [
       "<div>\n",
       "<style scoped>\n",
       "    .dataframe tbody tr th:only-of-type {\n",
       "        vertical-align: middle;\n",
       "    }\n",
       "\n",
       "    .dataframe tbody tr th {\n",
       "        vertical-align: top;\n",
       "    }\n",
       "\n",
       "    .dataframe thead th {\n",
       "        text-align: right;\n",
       "    }\n",
       "</style>\n",
       "<table border=\"1\" class=\"dataframe\">\n",
       "  <thead>\n",
       "    <tr style=\"text-align: right;\">\n",
       "      <th></th>\n",
       "      <th>title</th>\n",
       "      <th>contents</th>\n",
       "    </tr>\n",
       "  </thead>\n",
       "  <tbody>\n",
       "    <tr>\n",
       "      <td>13733</td>\n",
       "      <td>사립유치원 35억 1600만 원 지원</td>\n",
       "      <td>이와 별도로 시교육청은 사립유치원 교원의 사기진작과 유아교육의 질을 높이기 위해 사...</td>\n",
       "    </tr>\n",
       "    <tr>\n",
       "      <td>13734</td>\n",
       "      <td>[오늘의 핫이슈] 4월 16일 실시간 검색어 순위(세월호, 드루킹)</td>\n",
       "      <td>근로자 휴가지원사업 휴가비 20만 원 지원, 신청방법은? 2. 드루킹 인터넷 댓글 ...</td>\n",
       "    </tr>\n",
       "    <tr>\n",
       "      <td>13735</td>\n",
       "      <td>서울시의회 이정훈 의원, 차별 없는 학교 출발은 교육공무직 근무 여건 개선에...</td>\n",
       "      <td>9%로 약 15% 증가하였고, 처우는 2016년부터 2018년까지 기본급 평균 약 ...</td>\n",
       "    </tr>\n",
       "    <tr>\n",
       "      <td>13736</td>\n",
       "      <td>[최일의 뉴스 브리핑] 12월 22일-이완구 무죄, 해수부 압수수색, 학교 비정규...</td>\n",
       "      <td>협약에는 명절휴가비 연 100만 원 지급, 가족수당의 경우 첫째 자녀 월 2만 원,...</td>\n",
       "    </tr>\n",
       "    <tr>\n",
       "      <td>13737</td>\n",
       "      <td>[최일의 뉴스 브리핑] 2월 9일--천안·아산 AI 살처분, 한파 주춤 미세먼지 기...</td>\n",
       "      <td>6-서천군이 충남 지자체 중 처음으로 어린이집 종사자들에게 명절 휴가비를 지급했네요...</td>\n",
       "    </tr>\n",
       "  </tbody>\n",
       "</table>\n",
       "</div>"
      ],
      "text/plain": [
       "                                                   title  \\\n",
       "13733                               사립유치원 35억 1600만 원 지원   \n",
       "13734              [오늘의 핫이슈] 4월 16일 실시간 검색어 순위(세월호, 드루킹)   \n",
       "13735      서울시의회 이정훈 의원, 차별 없는 학교 출발은 교육공무직 근무 여건 개선에...   \n",
       "13736   [최일의 뉴스 브리핑] 12월 22일-이완구 무죄, 해수부 압수수색, 학교 비정규...   \n",
       "13737  [최일의 뉴스 브리핑] 2월 9일--천안·아산 AI 살처분, 한파 주춤 미세먼지 기...   \n",
       "\n",
       "                                                contents  \n",
       "13733  이와 별도로 시교육청은 사립유치원 교원의 사기진작과 유아교육의 질을 높이기 위해 사...  \n",
       "13734  근로자 휴가지원사업 휴가비 20만 원 지원, 신청방법은? 2. 드루킹 인터넷 댓글 ...  \n",
       "13735  9%로 약 15% 증가하였고, 처우는 2016년부터 2018년까지 기본급 평균 약 ...  \n",
       "13736  협약에는 명절휴가비 연 100만 원 지급, 가족수당의 경우 첫째 자녀 월 2만 원,...  \n",
       "13737  6-서천군이 충남 지자체 중 처음으로 어린이집 종사자들에게 명절 휴가비를 지급했네요...  "
      ]
     },
     "execution_count": 6,
     "metadata": {},
     "output_type": "execute_result"
    }
   ],
   "source": [
    "df1 = df1.iloc[:, 1:]\n",
    "df1.tail()"
   ]
  },
  {
   "cell_type": "code",
   "execution_count": 7,
   "metadata": {},
   "outputs": [],
   "source": [
    "df1.to_excel('교양오락문화생활비.xlsx')"
   ]
  },
  {
   "cell_type": "markdown",
   "metadata": {},
   "source": [
    "## 교통통신비"
   ]
  },
  {
   "cell_type": "code",
   "execution_count": 8,
   "metadata": {},
   "outputs": [
    {
     "name": "stdout",
     "output_type": "stream",
     "text": [
      "(4000, 3)\n",
      "(4000, 3)\n",
      "(4150, 3)\n"
     ]
    }
   ],
   "source": [
    "df2_1 = pd.read_excel(\"교통통신비_교통비.xlsx\", encoding='CP949')\n",
    "df2_2 = pd.read_excel(\"교통통신비_대중교통.xlsx\", encoding='CP949')\n",
    "df2_3 = pd.read_excel(\"교통통신비_통신비.xlsx\", encoding='CP949')\n",
    "\n",
    "print(df2_1.shape)\n",
    "print(df2_2.shape)\n",
    "print(df2_3.shape)"
   ]
  },
  {
   "cell_type": "code",
   "execution_count": 9,
   "metadata": {},
   "outputs": [
    {
     "data": {
      "text/plain": [
       "(12150, 3)"
      ]
     },
     "execution_count": 9,
     "metadata": {},
     "output_type": "execute_result"
    }
   ],
   "source": [
    "df2 = pd.concat([df2_1, df2_2, df2_3], ignore_index=True)\n",
    "df2.shape"
   ]
  },
  {
   "cell_type": "code",
   "execution_count": 10,
   "metadata": {},
   "outputs": [],
   "source": [
    "df2 = df2.iloc[:, 1:]\n",
    "df2.to_excel('교통통신비.xlsx')"
   ]
  },
  {
   "cell_type": "markdown",
   "metadata": {},
   "source": [
    "## 내구재비"
   ]
  },
  {
   "cell_type": "code",
   "execution_count": 11,
   "metadata": {},
   "outputs": [
    {
     "name": "stdout",
     "output_type": "stream",
     "text": [
      "(4000, 3)\n",
      "(1643, 3)\n",
      "(4000, 3)\n"
     ]
    }
   ],
   "source": [
    "df3_1 = pd.read_excel(\"내구재비_가전제품.xlsx\", encoding='CP949')\n",
    "df3_2 = pd.read_excel(\"내구재비_내구재.xlsx\", encoding='CP949')\n",
    "df3_3 = pd.read_excel(\"내구재비_전자제품.xlsx\", encoding='CP949')\n",
    "\n",
    "print(df3_1.shape)\n",
    "print(df3_2.shape)\n",
    "print(df3_3.shape)"
   ]
  },
  {
   "cell_type": "code",
   "execution_count": 12,
   "metadata": {},
   "outputs": [
    {
     "data": {
      "text/plain": [
       "(9643, 3)"
      ]
     },
     "execution_count": 12,
     "metadata": {},
     "output_type": "execute_result"
    }
   ],
   "source": [
    "df3 = pd.concat([df3_1, df3_2, df3_3], ignore_index=True)\n",
    "df3.shape"
   ]
  },
  {
   "cell_type": "code",
   "execution_count": 13,
   "metadata": {},
   "outputs": [],
   "source": [
    "df3 = df3.iloc[:, 1:]\n",
    "df3.to_excel('내구재비.xlsx')"
   ]
  },
  {
   "cell_type": "markdown",
   "metadata": {},
   "source": [
    "## 외식비"
   ]
  },
  {
   "cell_type": "code",
   "execution_count": 14,
   "metadata": {},
   "outputs": [
    {
     "name": "stdout",
     "output_type": "stream",
     "text": [
      "(4000, 3)\n",
      "(1180, 3)\n"
     ]
    }
   ],
   "source": [
    "df4_1 = pd.read_excel(\"외식비_외식.xlsx\", encoding='CP949')\n",
    "df4_2 = pd.read_excel(\"외식비_외식비.xlsx\", encoding='CP949')\n",
    "\n",
    "print(df4_1.shape)\n",
    "print(df4_2.shape)"
   ]
  },
  {
   "cell_type": "code",
   "execution_count": 15,
   "metadata": {},
   "outputs": [
    {
     "data": {
      "text/plain": [
       "(5180, 3)"
      ]
     },
     "execution_count": 15,
     "metadata": {},
     "output_type": "execute_result"
    }
   ],
   "source": [
    "df4 = pd.concat([df4_1, df4_2], ignore_index=True)\n",
    "df4.shape"
   ]
  },
  {
   "cell_type": "code",
   "execution_count": 16,
   "metadata": {},
   "outputs": [],
   "source": [
    "df4 = df4.iloc[:, 1:]\n",
    "df4.to_excel('외식비.xlsx')"
   ]
  },
  {
   "cell_type": "markdown",
   "metadata": {},
   "source": [
    "## 의료보건비"
   ]
  },
  {
   "cell_type": "code",
   "execution_count": 17,
   "metadata": {},
   "outputs": [
    {
     "name": "stdout",
     "output_type": "stream",
     "text": [
      "(4000, 3)\n",
      "(4000, 3)\n",
      "(4000, 3)\n"
     ]
    }
   ],
   "source": [
    "df5_1 = pd.read_excel(\"의료보건비_건강보험.xlsx\", encoding='CP949')\n",
    "df5_2 = pd.read_excel(\"의료보건비_병원비.xlsx\", encoding='CP949')\n",
    "df5_3 = pd.read_excel(\"의료보건비_의료비.xlsx\", encoding='CP949')\n",
    "\n",
    "print(df5_1.shape)\n",
    "print(df5_2.shape)\n",
    "print(df5_3.shape)"
   ]
  },
  {
   "cell_type": "code",
   "execution_count": 18,
   "metadata": {},
   "outputs": [
    {
     "data": {
      "text/plain": [
       "(12000, 3)"
      ]
     },
     "execution_count": 18,
     "metadata": {},
     "output_type": "execute_result"
    }
   ],
   "source": [
    "df5 = pd.concat([df5_1, df5_2, df5_3], ignore_index=True)\n",
    "df5.shape"
   ]
  },
  {
   "cell_type": "code",
   "execution_count": 19,
   "metadata": {},
   "outputs": [],
   "source": [
    "df5 = df5.iloc[:, 1:]\n",
    "df5.to_excel('의료보건비.xlsx')"
   ]
  },
  {
   "cell_type": "markdown",
   "metadata": {},
   "source": [
    "## 의류비"
   ]
  },
  {
   "cell_type": "code",
   "execution_count": 20,
   "metadata": {},
   "outputs": [
    {
     "name": "stdout",
     "output_type": "stream",
     "text": [
      "(4000, 3)\n",
      "(4000, 3)\n"
     ]
    }
   ],
   "source": [
    "df6_1 = pd.read_excel(\"의류비_의류.xlsx\", encoding='CP949')\n",
    "df6_2 = pd.read_excel(\"의류비_패션.xlsx\", encoding='CP949')\n",
    "\n",
    "print(df6_1.shape)\n",
    "print(df6_2.shape)"
   ]
  },
  {
   "cell_type": "code",
   "execution_count": 21,
   "metadata": {},
   "outputs": [
    {
     "data": {
      "text/plain": [
       "(8000, 3)"
      ]
     },
     "execution_count": 21,
     "metadata": {},
     "output_type": "execute_result"
    }
   ],
   "source": [
    "df6 = pd.concat([df6_1, df6_2], ignore_index=True)\n",
    "df6.shape"
   ]
  },
  {
   "cell_type": "code",
   "execution_count": 22,
   "metadata": {},
   "outputs": [],
   "source": [
    "df6 = df6.iloc[:, 1:]\n",
    "df6.to_excel('의류비.xlsx')"
   ]
  },
  {
   "cell_type": "code",
   "execution_count": null,
   "metadata": {},
   "outputs": [],
   "source": []
  }
 ],
 "metadata": {
  "kernelspec": {
   "display_name": "Python 3",
   "language": "python",
   "name": "python3"
  },
  "language_info": {
   "codemirror_mode": {
    "name": "ipython",
    "version": 3
   },
   "file_extension": ".py",
   "mimetype": "text/x-python",
   "name": "python",
   "nbconvert_exporter": "python",
   "pygments_lexer": "ipython3",
   "version": "3.7.4"
  },
  "toc": {
   "base_numbering": 1,
   "nav_menu": {},
   "number_sections": true,
   "sideBar": true,
   "skip_h1_title": false,
   "title_cell": "Table of Contents",
   "title_sidebar": "Contents",
   "toc_cell": false,
   "toc_position": {},
   "toc_section_display": true,
   "toc_window_display": true
  },
  "varInspector": {
   "cols": {
    "lenName": 16,
    "lenType": 16,
    "lenVar": 40
   },
   "kernels_config": {
    "python": {
     "delete_cmd_postfix": "",
     "delete_cmd_prefix": "del ",
     "library": "var_list.py",
     "varRefreshCmd": "print(var_dic_list())"
    },
    "r": {
     "delete_cmd_postfix": ") ",
     "delete_cmd_prefix": "rm(",
     "library": "var_list.r",
     "varRefreshCmd": "cat(var_dic_list()) "
    }
   },
   "types_to_exclude": [
    "module",
    "function",
    "builtin_function_or_method",
    "instance",
    "_Feature"
   ],
   "window_display": false
  }
 },
 "nbformat": 4,
 "nbformat_minor": 2
}
