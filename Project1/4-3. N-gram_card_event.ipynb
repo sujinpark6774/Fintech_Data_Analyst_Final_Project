{
 "cells": [
  {
   "cell_type": "markdown",
   "metadata": {},
   "source": [
    "# 준비"
   ]
  },
  {
   "cell_type": "code",
   "execution_count": 1,
   "metadata": {},
   "outputs": [],
   "source": [
    "import pandas as pd\n",
    "import numpy as np\n",
    "import os\n",
    "import re\n",
    "\n",
    "import nltk\n",
    "from numpy.random import randint, seed\n",
    "from sklearn.feature_extraction.text import CountVectorizer\n",
    "\n",
    "import konlpy\n",
    "from konlpy.tag import Twitter\n",
    "\n",
    "from collections import Counter\n",
    "from wordcloud import WordCloud\n",
    "\n",
    "from PIL import Image  \n",
    "from IPython.display import set_matplotlib_formats\n",
    "from nltk.corpus import stopwords"
   ]
  },
  {
   "cell_type": "code",
   "execution_count": 2,
   "metadata": {},
   "outputs": [],
   "source": [
    "# 시각화를 위한 패키지\n",
    "import matplotlib as mpl\n",
    "mpl.rcParams['axes.unicode_minus'] = False # '-' 깨짐 방지\n",
    "\n",
    "import matplotlib.pyplot as plt\n",
    "plt.rcParams[\"font.family\"] = 'Malgun Gothic' # 한글 깨짐 방지\n",
    "plt.rcParams[\"font.size\"] = 12\n",
    "plt.rcParams[\"figure.figsize\"] = (8, 6)\n",
    "%matplotlib inline\n",
    "\n",
    "import seaborn as sns\n",
    "# sns.set()"
   ]
  },
  {
   "cell_type": "code",
   "execution_count": 3,
   "metadata": {},
   "outputs": [
    {
     "data": {
      "text/plain": [
       "'C:\\\\workspace\\\\Python\\\\4-2) 핀테크 교육\\\\Final Project\\\\Project1'"
      ]
     },
     "execution_count": 3,
     "metadata": {},
     "output_type": "execute_result"
    }
   ],
   "source": [
    "os.getcwd()"
   ]
  },
  {
   "cell_type": "code",
   "execution_count": 4,
   "metadata": {},
   "outputs": [
    {
     "data": {
      "text/plain": [
       "'C:\\\\workspace\\\\Python\\\\4-2) 핀테크 교육\\\\Final Project\\\\Project1\\\\data'"
      ]
     },
     "execution_count": 4,
     "metadata": {},
     "output_type": "execute_result"
    }
   ],
   "source": [
    "os.chdir(r\".\\data\")\n",
    "os.getcwd()"
   ]
  },
  {
   "cell_type": "markdown",
   "metadata": {},
   "source": [
    "# Load data"
   ]
  },
  {
   "cell_type": "code",
   "execution_count": 5,
   "metadata": {},
   "outputs": [
    {
     "data": {
      "text/plain": [
       "(255, 2)"
      ]
     },
     "execution_count": 5,
     "metadata": {},
     "output_type": "execute_result"
    }
   ],
   "source": [
    "my_text=pd.read_csv(\"SH_card.csv\", encoding='CP949')\n",
    "my_text.shape"
   ]
  },
  {
   "cell_type": "code",
   "execution_count": 6,
   "metadata": {},
   "outputs": [
    {
     "data": {
      "text/html": [
       "<div>\n",
       "<style scoped>\n",
       "    .dataframe tbody tr th:only-of-type {\n",
       "        vertical-align: middle;\n",
       "    }\n",
       "\n",
       "    .dataframe tbody tr th {\n",
       "        vertical-align: top;\n",
       "    }\n",
       "\n",
       "    .dataframe thead th {\n",
       "        text-align: right;\n",
       "    }\n",
       "</style>\n",
       "<table border=\"1\" class=\"dataframe\">\n",
       "  <thead>\n",
       "    <tr style=\"text-align: right;\">\n",
       "      <th></th>\n",
       "      <th>text</th>\n",
       "      <th>date</th>\n",
       "    </tr>\n",
       "  </thead>\n",
       "  <tbody>\n",
       "    <tr>\n",
       "      <td>250</td>\n",
       "      <td>카카오페이 지방세 캐시백 이벤트</td>\n",
       "      <td>2017.09.27~2017.12.28</td>\n",
       "    </tr>\n",
       "    <tr>\n",
       "      <td>251</td>\n",
       "      <td>공항라운지 이용방법 확대 이벤트</td>\n",
       "      <td>2017.09.18~2018.02.01</td>\n",
       "    </tr>\n",
       "    <tr>\n",
       "      <td>252</td>\n",
       "      <td>롯데호텔 Haute Afternoon 이벤트</td>\n",
       "      <td>2017.09.01~2017.11.30</td>\n",
       "    </tr>\n",
       "    <tr>\n",
       "      <td>253</td>\n",
       "      <td>부산 웨스틴조선호텔 까밀리아 뷔페권 이벤트</td>\n",
       "      <td>2017.09.18~2017.11.30</td>\n",
       "    </tr>\n",
       "    <tr>\n",
       "      <td>254</td>\n",
       "      <td>신한 FAN 신규가입 이벤트 프로야구 H2 특급 아이템!</td>\n",
       "      <td>2017.09.14~2017.12.28</td>\n",
       "    </tr>\n",
       "  </tbody>\n",
       "</table>\n",
       "</div>"
      ],
      "text/plain": [
       "                                text                   date\n",
       "250                카카오페이 지방세 캐시백 이벤트  2017.09.27~2017.12.28\n",
       "251                공항라운지 이용방법 확대 이벤트  2017.09.18~2018.02.01\n",
       "252         롯데호텔 Haute Afternoon 이벤트  2017.09.01~2017.11.30\n",
       "253          부산 웨스틴조선호텔 까밀리아 뷔페권 이벤트  2017.09.18~2017.11.30\n",
       "254  신한 FAN 신규가입 이벤트 프로야구 H2 특급 아이템!  2017.09.14~2017.12.28"
      ]
     },
     "execution_count": 6,
     "metadata": {},
     "output_type": "execute_result"
    }
   ],
   "source": [
    "my_text.tail()"
   ]
  },
  {
   "cell_type": "code",
   "execution_count": 7,
   "metadata": {},
   "outputs": [
    {
     "data": {
      "text/plain": [
       "array(['신한 FAN 이용금액별 포인트 적립 이벤트', '신한카드 행복드림(Dream) 페스티벌!',\n",
       "       '워너원 한정판 체크카드 사용하고 경품받자!', 'L7호텔 Yellow Summer 이벤트',\n",
       "       '파크 하얏트 서울 Summer Staycation 이벤트', '「신한카드 골프 챌린지」참가 신청 안내',\n",
       "       '해외여행 최대 5% + 최대 10만원할인', 'PEUGEOT 2008 SUV Zero 이벤트',\n",
       "       '시트로엥 C4 CACTUS Zero 이벤트', '신한카드 YOOX 10~15% 추가할인'], dtype=object)"
      ]
     },
     "execution_count": 7,
     "metadata": {},
     "output_type": "execute_result"
    }
   ],
   "source": [
    "my_text['text'].values[:10]"
   ]
  },
  {
   "cell_type": "markdown",
   "metadata": {},
   "source": [
    "# 전처리"
   ]
  },
  {
   "cell_type": "code",
   "execution_count": 8,
   "metadata": {},
   "outputs": [
    {
     "data": {
      "text/plain": [
       "39"
      ]
     },
     "execution_count": 8,
     "metadata": {},
     "output_type": "execute_result"
    }
   ],
   "source": [
    "len(my_text['text'].values) - len(set(my_text['text'].values)) # 중복 데이터"
   ]
  },
  {
   "cell_type": "code",
   "execution_count": 9,
   "metadata": {},
   "outputs": [],
   "source": [
    "no_meaning = \"이벤트|신한카드|신한\"\n",
    "my_text_clean = []\n",
    "\n",
    "for a_line in set(my_text['text'].values):\n",
    "    a_line = re.sub('[^ㄱ-ㅣ가-힣]+', ' ', a_line) # 한글, 숫자 이외는 모두 공백으로\n",
    "    a_line = re.sub(no_meaning, '', a_line)           # 의미없는 문자 삭제\n",
    "    a_line = re.sub('\\s+', ' ', a_line)               # 잉여 스페이스를 공백 하나로\n",
    "    my_text_clean += [a_line]"
   ]
  },
  {
   "cell_type": "code",
   "execution_count": 10,
   "metadata": {},
   "outputs": [
    {
     "data": {
      "text/plain": [
       "['제주신화월드 패키지 ',\n",
       " ' 새해맞이 신차구매 ',\n",
       " '네이버페이 간편결제 이용 ',\n",
       " '와 듀오 미팅 ',\n",
       " '카카오페이 지방세 캐시백 ',\n",
       " ' 체크카드 출시 ',\n",
       " '볼보를 부담 없이 구매할 수 있는 기회 ',\n",
       " ' 월 신규가입 ',\n",
       " '해외여행 최대 최대 만원할인',\n",
       " '신세계 런칭 주년 제 탄 ']"
      ]
     },
     "execution_count": 10,
     "metadata": {},
     "output_type": "execute_result"
    }
   ],
   "source": [
    "my_text_clean[:10]"
   ]
  },
  {
   "cell_type": "code",
   "execution_count": 11,
   "metadata": {},
   "outputs": [],
   "source": [
    "hannanum = konlpy.tag.Hannanum()\n",
    "\n",
    "# 명사 추출\n",
    "my_words = []\n",
    "for a_line, n in zip(my_text_clean, range(len(my_text_clean))):\n",
    "    #print(n, end=\" \")\n",
    "    if a_line == \" \":\n",
    "        #print(\"패스\")\n",
    "        continue\n",
    "    my_words += hannanum.nouns(a_line)\n",
    "    \n",
    "#my_words[:10]"
   ]
  },
  {
   "cell_type": "code",
   "execution_count": 12,
   "metadata": {},
   "outputs": [],
   "source": [
    "# 단음절 제거\n",
    "my_words_2 = [\"\"]\n",
    "for a_word in my_words:\n",
    "    if len(a_word) > 1:\n",
    "        my_words_2[0] += \" \" + a_word\n",
    "        \n",
    "#my_words_2"
   ]
  },
  {
   "cell_type": "markdown",
   "metadata": {},
   "source": [
    "# 워드 클라우드"
   ]
  },
  {
   "cell_type": "code",
   "execution_count": 13,
   "metadata": {},
   "outputs": [
    {
     "data": {
      "text/plain": [
       "<wordcloud.wordcloud.WordCloud at 0x19d5c067c48>"
      ]
     },
     "execution_count": 13,
     "metadata": {},
     "output_type": "execute_result"
    }
   ],
   "source": [
    "# 워드클라우드\n",
    "a_long_sentence = ' '.join(my_words_2)\n",
    "mask_round = np.array(Image.open(\"mask.jpg\"))\n",
    "\n",
    "wc = WordCloud(font_path=\"c:/Windows/Fonts/malgun.ttf\", background_color='white', \n",
    "               max_words=20, colormap='nipy_spectral', mask=mask_round) \n",
    "wc.generate(a_long_sentence)\n",
    "#wc.words_"
   ]
  },
  {
   "cell_type": "code",
   "execution_count": 14,
   "metadata": {},
   "outputs": [
    {
     "name": "stdout",
     "output_type": "stream",
     "text": [
      "1 위 :  캐시백\n",
      "2 위 :  할인\n",
      "3 위 :  최대\n",
      "4 위 :  혜택\n",
      "5 위 :  포인트\n",
      "6 위 :  패키지\n",
      "7 위 :  신규가입\n",
      "8 위 :  호텔\n",
      "9 위 :  추가할인\n",
      "10 위 :  적립\n"
     ]
    }
   ],
   "source": [
    "for i, n in zip(wc.words_.keys(), range(1, 11)):\n",
    "    print(n, \"위 : \", i)"
   ]
  },
  {
   "cell_type": "code",
   "execution_count": 15,
   "metadata": {},
   "outputs": [
    {
     "data": {
      "image/png": "[encoded data removed]",
      "text/plain": [
       "<Figure size 360x360 with 1 Axes>"
      ]
     },
     "metadata": {
      "needs_background": "light"
     },
     "output_type": "display_data"
    }
   ],
   "source": [
    "plt.figure(figsize=(5,5))\n",
    "plt.imshow(wc, interpolation='bilinear')\n",
    "plt.axis(\"off\")\n",
    "plt.show()"
   ]
  },
  {
   "cell_type": "markdown",
   "metadata": {},
   "source": [
    "# 2-gram"
   ]
  },
  {
   "cell_type": "code",
   "execution_count": 16,
   "metadata": {},
   "outputs": [],
   "source": [
    "n = 2                                                            # Can be changed to a number equal or larger than 2.\n",
    "n_min = n\n",
    "n_max = n\n",
    "n_gram_type = 'word'                                             # n-Gram with words.\n",
    "vectorizer = CountVectorizer(ngram_range=(n_min,n_max), analyzer = n_gram_type)"
   ]
  },
  {
   "cell_type": "code",
   "execution_count": 17,
   "metadata": {},
   "outputs": [],
   "source": [
    "n_grams = vectorizer.fit(my_words_2).get_feature_names()            # Get the n-Grams as a list.\n",
    "n_gram_cts = vectorizer.transform(my_words_2).toarray()             #  The output is an array of array.\n",
    "n_gram_cts = list(n_gram_cts[0])                                 # Convert into a simple list."
   ]
  },
  {
   "cell_type": "code",
   "execution_count": 18,
   "metadata": {},
   "outputs": [
    {
     "data": {
      "text/plain": [
       "[('아고다 호텔', 7),\n",
       " ('최대 캐시백', 5),\n",
       " ('신세계상품권 증정', 3),\n",
       " ('아트 컬렉션', 3),\n",
       " ('연회비 캐시백', 3),\n",
       " ('올댓쇼핑 첫구', 3),\n",
       " ('첫구 감사', 3),\n",
       " ('포인트 적립', 3),\n",
       " ('플라자 호텔', 3),\n",
       " ('하얏트 서울', 3)]"
      ]
     },
     "execution_count": 18,
     "metadata": {},
     "output_type": "execute_result"
    }
   ],
   "source": [
    "res_dict = {}\n",
    "for z, zz in zip(n_grams, n_gram_cts):\n",
    "    res_dict[z] = zz\n",
    "res_dict = sorted(res_dict.items(), key=(lambda x: x[1]), reverse=True)\n",
    "res_dict[:10]"
   ]
  },
  {
   "cell_type": "markdown",
   "metadata": {},
   "source": [
    "# 연관 단어 확인"
   ]
  },
  {
   "cell_type": "markdown",
   "metadata": {},
   "source": [
    "## 신한카드"
   ]
  },
  {
   "cell_type": "code",
   "execution_count": 19,
   "metadata": {},
   "outputs": [],
   "source": [
    "def predict(text):\n",
    "    n = 0\n",
    "    print(text, \"--->\", end=\" \")\n",
    "    for i in range(len(res_dict)):\n",
    "        if text == res_dict[i][0].split(\" \")[0]:\n",
    "            print(res_dict[i][0].split(\" \")[1], end=\" \")\n",
    "            n += 1\n",
    "        if n == 10:\n",
    "            break\n",
    "    print(\"\")\n",
    "    \n",
    "def predict_arr(arr):\n",
    "    for i in arr:\n",
    "        predict(i)"
   ]
  },
  {
   "cell_type": "code",
   "execution_count": 20,
   "metadata": {
    "scrolled": true
   },
   "outputs": [
    {
     "name": "stdout",
     "output_type": "stream",
     "text": [
      "캐시백 ---> 해외직구 게임만해 골프 교통카드 국내 내차처럼 받으 손해보험 시트로엥 신규발급 \n",
      "할인 ---> 영화 해외직구 대보험료 도시가스 롯데월드 벅스 부산 신규가입 아트 올댓쇼핑 \n",
      "최대 ---> 캐시백 올댓쇼핑 포인트 만원할인 선착순 설맞 신학기 최대 특별 특별적립 \n",
      "혜택 ---> 가족형금융안심서비스 내게로 맞이 영화 올댓쇼핑 위치기반 최대 카드 포인트 해외딥 \n",
      "포인트 ---> 적립 구매 드림 스포츠누리카드 전국 캐시백 파라다이스호텔 \n"
     ]
    }
   ],
   "source": [
    "predict_arr(['캐시백', '할인', '최대', '혜택', '포인트'])"
   ]
  },
  {
   "cell_type": "code",
   "execution_count": 21,
   "metadata": {},
   "outputs": [
    {
     "name": "stdout",
     "output_type": "stream",
     "text": [
      "여행 ---> \n",
      "맛집 ---> \n",
      "종합 ---> \n",
      "오늘 ---> \n",
      "개최 ---> \n",
      "서울 ---> 네이버페 디큐브시티 레이디스 만요 연말 추가할인 \n",
      "부산 ---> 호텔 송도해상케이블카 웨스틴조선부산 웨스틴조선호텔 패키지 \n",
      "올해 ---> \n",
      "제주 ---> 렌트카 신나는한판 퍼시픽랜드 \n",
      "공개 ---> \n"
     ]
    }
   ],
   "source": [
    "predict_arr(['여행', '맛집', '종합', '오늘', '개최', \n",
    "           '서울', '부산', '올해', '제주', '공개'])"
   ]
  },
  {
   "cell_type": "markdown",
   "metadata": {},
   "source": [
    "## 삼성카드"
   ]
  },
  {
   "cell_type": "code",
   "execution_count": 22,
   "metadata": {},
   "outputs": [
    {
     "data": {
      "text/plain": [
       "(609, 2)"
      ]
     },
     "execution_count": 22,
     "metadata": {},
     "output_type": "execute_result"
    }
   ],
   "source": [
    "my_text=pd.read_csv(\"SS_card.csv\")\n",
    "my_text.shape"
   ]
  },
  {
   "cell_type": "code",
   "execution_count": 23,
   "metadata": {},
   "outputs": [],
   "source": [
    "no_meaning = \"이벤트|삼성카드|삼성\"\n",
    "my_text_clean = []\n",
    "\n",
    "for a_line in set(my_text['text'].values):\n",
    "    a_line = re.sub('[^ㄱ-ㅣ가-힣]+', ' ', a_line) # 한글, 숫자 이외는 모두 공백으로\n",
    "    a_line = re.sub(no_meaning, '', a_line)           # 의미없는 문자 삭제\n",
    "    a_line = re.sub('\\s+', ' ', a_line)               # 잉여 스페이스를 공백 하나로\n",
    "    my_text_clean += [a_line]"
   ]
  },
  {
   "cell_type": "code",
   "execution_count": 24,
   "metadata": {},
   "outputs": [],
   "source": [
    "hannanum = konlpy.tag.Hannanum()\n",
    "\n",
    "my_words = []\n",
    "for a_line, n in zip(my_text_clean, range(len(my_text_clean))):\n",
    "    #print(n, end=\" \")\n",
    "    if a_line == \" \":\n",
    "        #print(\"패스\")\n",
    "        continue\n",
    "    my_words += hannanum.nouns(a_line)\n",
    "    \n",
    "my_words_2 = [\"\"]\n",
    "for a_word in my_words:\n",
    "    if len(a_word) > 1:\n",
    "        my_words_2[0] += \" \" + a_word"
   ]
  },
  {
   "cell_type": "code",
   "execution_count": 25,
   "metadata": {},
   "outputs": [
    {
     "data": {
      "text/plain": [
       "<wordcloud.wordcloud.WordCloud at 0x19d5e943a08>"
      ]
     },
     "execution_count": 25,
     "metadata": {},
     "output_type": "execute_result"
    }
   ],
   "source": [
    "# 워드클라우드\n",
    "a_long_sentence = ' '.join(my_words_2)\n",
    "mask_round = np.array(Image.open(\"mask.jpg\"))\n",
    "\n",
    "wc = WordCloud(font_path=\"c:/Windows/Fonts/malgun.ttf\", background_color='white', \n",
    "               max_words=20, colormap='nipy_spectral', mask=mask_round) \n",
    "wc.generate(a_long_sentence)\n",
    "#wc.words_"
   ]
  },
  {
   "cell_type": "code",
   "execution_count": 26,
   "metadata": {},
   "outputs": [
    {
     "name": "stdout",
     "output_type": "stream",
     "text": [
      "1 위 :  혜택\n",
      "2 위 :  여행\n",
      "3 위 :  행운\n",
      "4 위 :  할인\n",
      "5 위 :  캐시백\n",
      "6 위 :  호텔\n",
      "7 위 :  선물\n",
      "8 위 :  프로모션\n",
      "9 위 :  가입\n",
      "10 위 :  만원\n"
     ]
    }
   ],
   "source": [
    "for i, n in zip(wc.words_.keys(), range(1, 11)):\n",
    "    print(n, \"위 : \", i)"
   ]
  },
  {
   "cell_type": "code",
   "execution_count": 27,
   "metadata": {},
   "outputs": [
    {
     "data": {
      "image/png": "[encoded data removed]",
      "text/plain": [
       "<Figure size 360x360 with 1 Axes>"
      ]
     },
     "metadata": {
      "needs_background": "light"
     },
     "output_type": "display_data"
    }
   ],
   "source": [
    "plt.figure(figsize=(5,5))\n",
    "plt.imshow(wc, interpolation='bilinear')\n",
    "plt.axis(\"off\")\n",
    "plt.show()"
   ]
  },
  {
   "cell_type": "code",
   "execution_count": 28,
   "metadata": {},
   "outputs": [],
   "source": [
    "n = 2                                                            # Can be changed to a number equal or larger than 2.\n",
    "n_min = n\n",
    "n_max = n\n",
    "n_gram_type = 'word'                                             # n-Gram with words.\n",
    "vectorizer = CountVectorizer(ngram_range=(n_min,n_max), analyzer = n_gram_type)"
   ]
  },
  {
   "cell_type": "code",
   "execution_count": 29,
   "metadata": {},
   "outputs": [],
   "source": [
    "n_grams = vectorizer.fit(my_words_2).get_feature_names()            # Get the n-Grams as a list.\n",
    "n_gram_cts = vectorizer.transform(my_words_2).toarray()             #  The output is an array of array.\n",
    "n_gram_cts = list(n_gram_cts[0])                                 # Convert into a simple list."
   ]
  },
  {
   "cell_type": "code",
   "execution_count": 30,
   "metadata": {},
   "outputs": [
    {
     "data": {
      "text/plain": [
       "[('만원 캐시백', 11),\n",
       " ('여행 혜택', 10),\n",
       " ('혜택 여행', 9),\n",
       " ('호텔 혜택', 8),\n",
       " ('가연 미팅파티', 6),\n",
       " ('창립 주년', 6),\n",
       " ('호텔 예약', 6),\n",
       " ('화재 다이렉트', 6),\n",
       " ('겨울 여행', 5),\n",
       " ('다이렉트 오토', 5)]"
      ]
     },
     "execution_count": 30,
     "metadata": {},
     "output_type": "execute_result"
    }
   ],
   "source": [
    "res_dict = {}\n",
    "for z, zz in zip(n_grams, n_gram_cts):\n",
    "    res_dict[z] = zz\n",
    "res_dict = sorted(res_dict.items(), key=(lambda x: x[1]), reverse=True)\n",
    "res_dict[:10]"
   ]
  },
  {
   "cell_type": "code",
   "execution_count": 31,
   "metadata": {},
   "outputs": [],
   "source": [
    "def predict(text):\n",
    "    n = 0\n",
    "    print(text, \"--->\", end=\" \")\n",
    "    for i in range(len(res_dict)):\n",
    "        if text == res_dict[i][0].split(\" \")[0]:\n",
    "            print(res_dict[i][0].split(\" \")[1], end=\" \")\n",
    "            n += 1\n",
    "        if n == 10:\n",
    "            break\n",
    "    print(\"\")\n",
    "    \n",
    "def predict_arr(arr):\n",
    "    for i in arr:\n",
    "        predict(i)"
   ]
  },
  {
   "cell_type": "code",
   "execution_count": 32,
   "metadata": {},
   "outputs": [
    {
     "name": "stdout",
     "output_type": "stream",
     "text": [
      "혜택 ---> 여행 모음 생활앱 아지냥 안내 지금 가득 가연 기회 다이렉트 \n",
      "여행 ---> 혜택 고민 날개 여름 여행 이때 준비 항공권 행운 호텔 \n",
      "행운 ---> 고객만족 도착 여행 구매 글래드여의도호텔 금호리조트 렌탈 롯데월드 마세요 멤버십 \n",
      "할인 ---> 상품권 영화 가정 개월 겨울 다이렉트 더블쿠폰 매직카 명의보호알림 무이자할부 \n",
      "캐시백 ---> 혜택 쇼핑케어 여행 주간 창립 휴대전화 갤럭시 경품 광주패밀리랜드 국세 \n"
     ]
    }
   ],
   "source": [
    "predict_arr(['혜택', '여행', '행운', '할인', '캐시백'])"
   ]
  },
  {
   "cell_type": "code",
   "execution_count": 33,
   "metadata": {},
   "outputs": [
    {
     "name": "stdout",
     "output_type": "stream",
     "text": [
      "여행 ---> 혜택 고민 날개 여름 여행 이때 준비 항공권 행운 호텔 \n",
      "맛집 ---> \n",
      "종합 ---> \n",
      "오늘 ---> \n",
      "개최 ---> \n",
      "서울 ---> 프리미엄 \n",
      "부산 ---> \n",
      "올해 ---> \n",
      "제주 ---> 할인 \n",
      "공개 ---> 현대해상 \n"
     ]
    }
   ],
   "source": [
    "predict_arr(['여행', '맛집', '종합', '오늘', '개최', \n",
    "           '서울', '부산', '올해', '제주', '공개'])"
   ]
  },
  {
   "cell_type": "markdown",
   "metadata": {},
   "source": [
    "## 국민카드"
   ]
  },
  {
   "cell_type": "code",
   "execution_count": 34,
   "metadata": {},
   "outputs": [
    {
     "data": {
      "text/plain": [
       "(265, 2)"
      ]
     },
     "execution_count": 34,
     "metadata": {},
     "output_type": "execute_result"
    }
   ],
   "source": [
    "my_text=pd.read_csv(\"KB_card.csv\")\n",
    "my_text.shape"
   ]
  },
  {
   "cell_type": "code",
   "execution_count": 35,
   "metadata": {},
   "outputs": [],
   "source": [
    "no_meaning = \"이벤트|국민카드|국민\"\n",
    "my_text_clean = []\n",
    "\n",
    "for a_line in set(my_text['text'].values):\n",
    "    a_line = re.sub('[^ㄱ-ㅣ가-힣]+', ' ', a_line) # 한글, 숫자 이외는 모두 공백으로\n",
    "    a_line = re.sub(no_meaning, '', a_line)           # 의미없는 문자 삭제\n",
    "    a_line = re.sub('\\s+', ' ', a_line)               # 잉여 스페이스를 공백 하나로\n",
    "    my_text_clean += [a_line]"
   ]
  },
  {
   "cell_type": "code",
   "execution_count": 36,
   "metadata": {},
   "outputs": [],
   "source": [
    "hannanum = konlpy.tag.Hannanum()\n",
    "\n",
    "my_words = []\n",
    "for a_line, n in zip(my_text_clean, range(len(my_text_clean))):\n",
    "    #print(n, end=\" \")\n",
    "    if a_line == \" \":\n",
    "        #print(\"패스\")\n",
    "        continue\n",
    "    my_words += hannanum.nouns(a_line)\n",
    "    \n",
    "my_words_2 = [\"\"]\n",
    "for a_word in my_words:\n",
    "    if len(a_word) > 1:\n",
    "        my_words_2[0] += \" \" + a_word"
   ]
  },
  {
   "cell_type": "code",
   "execution_count": 37,
   "metadata": {},
   "outputs": [
    {
     "data": {
      "text/plain": [
       "<wordcloud.wordcloud.WordCloud at 0x19d5e9a2408>"
      ]
     },
     "execution_count": 37,
     "metadata": {},
     "output_type": "execute_result"
    }
   ],
   "source": [
    "# 워드클라우드\n",
    "a_long_sentence = ' '.join(my_words_2)\n",
    "mask_round = np.array(Image.open(\"mask.jpg\"))\n",
    "\n",
    "wc = WordCloud(font_path=\"c:/Windows/Fonts/malgun.ttf\", background_color='white', \n",
    "               max_words=20, colormap='nipy_spectral', mask=mask_round) \n",
    "wc.generate(a_long_sentence)\n",
    "#wc.words_"
   ]
  },
  {
   "cell_type": "code",
   "execution_count": 38,
   "metadata": {},
   "outputs": [
    {
     "name": "stdout",
     "output_type": "stream",
     "text": [
      "1 위 :  캐시백\n",
      "2 위 :  혜택\n",
      "3 위 :  할인\n",
      "4 위 :  체크카드\n",
      "5 위 :  최대\n",
      "6 위 :  최대 만원\n",
      "7 위 :  자동납부\n",
      "8 위 :  만원 캐시백\n",
      "9 위 :  청구할인\n",
      "10 위 :  여행\n"
     ]
    }
   ],
   "source": [
    "for i, n in zip(wc.words_.keys(), range(1, 11)):\n",
    "    print(n, \"위 : \", i)"
   ]
  },
  {
   "cell_type": "code",
   "execution_count": 39,
   "metadata": {},
   "outputs": [
    {
     "data": {
      "image/png": "[encoded data removed]",
      "text/plain": [
       "<Figure size 360x360 with 1 Axes>"
      ]
     },
     "metadata": {
      "needs_background": "light"
     },
     "output_type": "display_data"
    }
   ],
   "source": [
    "plt.figure(figsize=(5,5))\n",
    "plt.imshow(wc, interpolation='bilinear')\n",
    "plt.axis(\"off\")\n",
    "plt.show()"
   ]
  },
  {
   "cell_type": "code",
   "execution_count": 40,
   "metadata": {},
   "outputs": [],
   "source": [
    "n = 2                                                            # Can be changed to a number equal or larger than 2.\n",
    "n_min = n\n",
    "n_max = n\n",
    "n_gram_type = 'word'                                             # n-Gram with words.\n",
    "vectorizer = CountVectorizer(ngram_range=(n_min,n_max), analyzer = n_gram_type)"
   ]
  },
  {
   "cell_type": "code",
   "execution_count": 41,
   "metadata": {},
   "outputs": [],
   "source": [
    "n_grams = vectorizer.fit(my_words_2).get_feature_names()            # Get the n-Grams as a list.\n",
    "n_gram_cts = vectorizer.transform(my_words_2).toarray()             #  The output is an array of array.\n",
    "n_gram_cts = list(n_gram_cts[0])                                 # Convert into a simple list."
   ]
  },
  {
   "cell_type": "code",
   "execution_count": 42,
   "metadata": {},
   "outputs": [
    {
     "data": {
      "text/plain": [
       "[('최대 만원', 13),\n",
       " ('만원 캐시백', 9),\n",
       " ('최대 할인', 6),\n",
       " ('호남 충청', 6),\n",
       " ('충청 제주', 5),\n",
       " ('개월 무이자할부', 4),\n",
       " ('만원 청구할인', 4),\n",
       " ('스마트폰 구입', 4),\n",
       " ('객실 할인', 3),\n",
       " ('국제선 항공권', 3)]"
      ]
     },
     "execution_count": 42,
     "metadata": {},
     "output_type": "execute_result"
    }
   ],
   "source": [
    "res_dict = {}\n",
    "for z, zz in zip(n_grams, n_gram_cts):\n",
    "    res_dict[z] = zz\n",
    "res_dict = sorted(res_dict.items(), key=(lambda x: x[1]), reverse=True)\n",
    "res_dict[:10]"
   ]
  },
  {
   "cell_type": "code",
   "execution_count": 43,
   "metadata": {},
   "outputs": [],
   "source": [
    "def predict(text):\n",
    "    n = 0\n",
    "    print(text, \"--->\", end=\" \")\n",
    "    for i in range(len(res_dict)):\n",
    "        if text == res_dict[i][0].split(\" \")[0]:\n",
    "            print(res_dict[i][0].split(\" \")[1], end=\" \")\n",
    "            n += 1\n",
    "        if n == 10:\n",
    "            break\n",
    "    print(\"\")\n",
    "    \n",
    "def predict_arr(arr):\n",
    "    for i in arr:\n",
    "        predict(i)"
   ]
  },
  {
   "cell_type": "code",
   "execution_count": 44,
   "metadata": {},
   "outputs": [
    {
     "name": "stdout",
     "output_type": "stream",
     "text": [
      "캐시백 ---> 체크카드 경품 계좌 라이프샵 상품권 가격보고 개월 공기청정기 대형슈퍼 도시가스요금 \n",
      "혜택 ---> 트렌드 해외 해외직구 가정의달 가족 개인사업자 공공임대료 금호타이어 까사미 내꺼 \n",
      "할인 ---> 가위바위보 가정 개월 골프 도시가스요금 등록 롯데월드 마이갓 반값다 백화점 \n",
      "체크카드 ---> 만원 신규발급 체크 탐앤탐스 기업카드 대한민국 매일매일 봄날 부동산임대료 설준비 \n",
      "최대 ---> 만원 할인 즉시할인 포인트 마이갓 무료배송 보너스 스피드메이트 \n"
     ]
    }
   ],
   "source": [
    "predict_arr(['캐시백', '혜택', '할인', '체크카드', '최대'])"
   ]
  },
  {
   "cell_type": "code",
   "execution_count": 45,
   "metadata": {},
   "outputs": [
    {
     "name": "stdout",
     "output_type": "stream",
     "text": [
      "여행 ---> 시작 필독 강원 동반자 시암파라곤 처음 \n",
      "맛집 ---> \n",
      "종합 ---> \n",
      "오늘 ---> \n",
      "개최 ---> \n",
      "서울 ---> 한샘 \n",
      "부산 ---> \n",
      "올해 ---> \n",
      "제주 ---> 가구업체 객실 설맞 학원업체 \n",
      "공개 ---> \n"
     ]
    }
   ],
   "source": [
    "predict_arr(['여행', '맛집', '종합', '오늘', '개최', \n",
    "           '서울', '부산', '올해', '제주', '공개'])"
   ]
  },
  {
   "cell_type": "markdown",
   "metadata": {},
   "source": [
    "## 우리카드"
   ]
  },
  {
   "cell_type": "code",
   "execution_count": 46,
   "metadata": {},
   "outputs": [
    {
     "data": {
      "text/plain": [
       "(163, 2)"
      ]
     },
     "execution_count": 46,
     "metadata": {},
     "output_type": "execute_result"
    }
   ],
   "source": [
    "my_text=pd.read_csv(\"WR_card.csv\")\n",
    "my_text.shape"
   ]
  },
  {
   "cell_type": "code",
   "execution_count": 47,
   "metadata": {},
   "outputs": [],
   "source": [
    "no_meaning = \"이벤트|우리카드|우리\"\n",
    "my_text_clean = []\n",
    "\n",
    "for a_line in set(my_text['text'].values):\n",
    "    a_line = re.sub('[^ㄱ-ㅣ가-힣]+', ' ', a_line) # 한글, 숫자 이외는 모두 공백으로\n",
    "    a_line = re.sub(no_meaning, '', a_line)           # 의미없는 문자 삭제\n",
    "    a_line = re.sub('\\s+', ' ', a_line)               # 잉여 스페이스를 공백 하나로\n",
    "    my_text_clean += [a_line]"
   ]
  },
  {
   "cell_type": "code",
   "execution_count": 48,
   "metadata": {},
   "outputs": [],
   "source": [
    "hannanum = konlpy.tag.Hannanum()\n",
    "\n",
    "my_words = []\n",
    "for a_line, n in zip(my_text_clean, range(len(my_text_clean))):\n",
    "    #print(n, end=\" \")\n",
    "    if a_line == \" \":\n",
    "        #print(\"패스\")\n",
    "        continue\n",
    "    my_words += hannanum.nouns(a_line)\n",
    "    \n",
    "my_words_2 = [\"\"]\n",
    "for a_word in my_words:\n",
    "    if len(a_word) > 1:\n",
    "        my_words_2[0] += \" \" + a_word"
   ]
  },
  {
   "cell_type": "code",
   "execution_count": 49,
   "metadata": {},
   "outputs": [
    {
     "data": {
      "text/plain": [
       "<wordcloud.wordcloud.WordCloud at 0x19d5e970b88>"
      ]
     },
     "execution_count": 49,
     "metadata": {},
     "output_type": "execute_result"
    }
   ],
   "source": [
    "# 워드클라우드\n",
    "a_long_sentence = ' '.join(my_words_2)\n",
    "mask_round = np.array(Image.open(\"mask.jpg\"))\n",
    "\n",
    "wc = WordCloud(font_path=\"c:/Windows/Fonts/malgun.ttf\", background_color='white', \n",
    "               max_words=20, colormap='nipy_spectral', mask=mask_round) \n",
    "wc.generate(a_long_sentence)\n",
    "#wc.words_"
   ]
  },
  {
   "cell_type": "code",
   "execution_count": 50,
   "metadata": {},
   "outputs": [
    {
     "name": "stdout",
     "output_type": "stream",
     "text": [
      "1 위 :  할인\n",
      "2 위 :  청구할인\n",
      "3 위 :  자동납부\n",
      "4 위 :  캐시백\n",
      "5 위 :  체크카드\n",
      "6 위 :  혜택\n",
      "7 위 :  최대 할인\n",
      "8 위 :  웨딩밴드\n",
      "9 위 :  카드\n",
      "10 위 :  이용\n"
     ]
    }
   ],
   "source": [
    "for i, n in zip(wc.words_.keys(), range(1, 11)):\n",
    "    print(n, \"위 : \", i)"
   ]
  },
  {
   "cell_type": "code",
   "execution_count": 51,
   "metadata": {},
   "outputs": [
    {
     "data": {
      "image/png": "[encoded data removed]",
      "text/plain": [
       "<Figure size 360x360 with 1 Axes>"
      ]
     },
     "metadata": {
      "needs_background": "light"
     },
     "output_type": "display_data"
    }
   ],
   "source": [
    "plt.figure(figsize=(5,5))\n",
    "plt.imshow(wc, interpolation='bilinear')\n",
    "plt.axis(\"off\")\n",
    "plt.show()"
   ]
  },
  {
   "cell_type": "code",
   "execution_count": 52,
   "metadata": {},
   "outputs": [],
   "source": [
    "n = 2                                                            # Can be changed to a number equal or larger than 2.\n",
    "n_min = n\n",
    "n_max = n\n",
    "n_gram_type = 'word'                                             # n-Gram with words.\n",
    "vectorizer = CountVectorizer(ngram_range=(n_min,n_max), analyzer = n_gram_type)"
   ]
  },
  {
   "cell_type": "code",
   "execution_count": 53,
   "metadata": {},
   "outputs": [],
   "source": [
    "n_grams = vectorizer.fit(my_words_2).get_feature_names()            # Get the n-Grams as a list.\n",
    "n_gram_cts = vectorizer.transform(my_words_2).toarray()             #  The output is an array of array.\n",
    "n_gram_cts = list(n_gram_cts[0])                                 # Convert into a simple list."
   ]
  },
  {
   "cell_type": "code",
   "execution_count": 54,
   "metadata": {},
   "outputs": [
    {
     "data": {
      "text/plain": [
       "[('최대 할인', 8),\n",
       " ('아고다 최대', 7),\n",
       " ('최대 만원', 4),\n",
       " ('카드 정석', 4),\n",
       " ('공사 임대주택', 3),\n",
       " ('만원 캐시백', 3),\n",
       " ('임대료 자동납부', 3),\n",
       " ('임대주택 임대료', 3),\n",
       " ('지방세 납부', 3),\n",
       " ('티켓 할인', 3)]"
      ]
     },
     "execution_count": 54,
     "metadata": {},
     "output_type": "execute_result"
    }
   ],
   "source": [
    "res_dict = {}\n",
    "for z, zz in zip(n_grams, n_gram_cts):\n",
    "    res_dict[z] = zz\n",
    "res_dict = sorted(res_dict.items(), key=(lambda x: x[1]), reverse=True)\n",
    "res_dict[:10]"
   ]
  },
  {
   "cell_type": "code",
   "execution_count": 55,
   "metadata": {},
   "outputs": [],
   "source": [
    "def predict(text):\n",
    "    n = 0\n",
    "    print(text, \"--->\", end=\" \")\n",
    "    for i in range(len(res_dict)):\n",
    "        if text == res_dict[i][0].split(\" \")[0]:\n",
    "            print(res_dict[i][0].split(\" \")[1], end=\" \")\n",
    "            n += 1\n",
    "        if n == 10:\n",
    "            break\n",
    "    print(\"\")\n",
    "    \n",
    "def predict_arr(arr):\n",
    "    for i in arr:\n",
    "        predict(i)"
   ]
  },
  {
   "cell_type": "code",
   "execution_count": 56,
   "metadata": {},
   "outputs": [
    {
     "name": "stdout",
     "output_type": "stream",
     "text": [
      "할인 ---> 영화 공사 나만의카드 대학생 도시가스요금 마지막 미국 빨간날 스페셜 시즌 \n",
      "청구할인 ---> 겨울 기념주화 던킨도너츠 목표달성 웨딩밴드 위비꿀파트너 위비마켓 이하넥스 지방세 체크카드 \n",
      "자동납부 ---> 청구할인 달콤한 대학 빨간날엔 사회보험료 썸타 아고다 웨딩밴드 한파끝 현대백화점 \n",
      "캐시백 ---> 경품 고객만 선착순 온더보더 이하넥스 체크카드 탐앤탐스 할부 항공권 홍콩 \n",
      "체크카드 ---> 기업 대학생 등록 목표달성 뮤지컬 배스킨라빈스 온라인 출시 행복한 \n"
     ]
    }
   ],
   "source": [
    "predict_arr(['할인', '청구할인', '자동납부', '캐시백', '체크카드'])"
   ]
  },
  {
   "cell_type": "code",
   "execution_count": 57,
   "metadata": {},
   "outputs": [
    {
     "name": "stdout",
     "output_type": "stream",
     "text": [
      "여행 ---> 전국 정석 혜택 \n",
      "맛집 ---> 최대 \n",
      "종합 ---> \n",
      "오늘 ---> \n",
      "개최 ---> \n",
      "서울 ---> 경기 \n",
      "부산 ---> \n",
      "올해 ---> \n",
      "제주 ---> \n",
      "공개 ---> \n"
     ]
    }
   ],
   "source": [
    "predict_arr(['여행', '맛집', '종합', '오늘', '개최', \n",
    "           '서울', '부산', '올해', '제주', '공개'])"
   ]
  },
  {
   "cell_type": "markdown",
   "metadata": {},
   "source": [
    "## 하나카드"
   ]
  },
  {
   "cell_type": "code",
   "execution_count": 58,
   "metadata": {},
   "outputs": [
    {
     "data": {
      "text/plain": [
       "(355, 2)"
      ]
     },
     "execution_count": 58,
     "metadata": {},
     "output_type": "execute_result"
    }
   ],
   "source": [
    "my_text=pd.read_csv(\"HN_card.csv\")\n",
    "my_text.shape"
   ]
  },
  {
   "cell_type": "code",
   "execution_count": 59,
   "metadata": {},
   "outputs": [],
   "source": [
    "no_meaning = \"이벤트|하나카드|하나\"\n",
    "my_text_clean = []\n",
    "\n",
    "for a_line in set(my_text['text'].values):\n",
    "    a_line = re.sub('[^ㄱ-ㅣ가-힣]+', ' ', a_line) # 한글, 숫자 이외는 모두 공백으로\n",
    "    a_line = re.sub(no_meaning, '', a_line)           # 의미없는 문자 삭제\n",
    "    a_line = re.sub('\\s+', ' ', a_line)               # 잉여 스페이스를 공백 하나로\n",
    "    my_text_clean += [a_line]"
   ]
  },
  {
   "cell_type": "code",
   "execution_count": 60,
   "metadata": {},
   "outputs": [],
   "source": [
    "hannanum = konlpy.tag.Hannanum()\n",
    "\n",
    "my_words = []\n",
    "for a_line, n in zip(my_text_clean, range(len(my_text_clean))):\n",
    "    #print(n, end=\" \")\n",
    "    if a_line == \" \":\n",
    "        #print(\"패스\")\n",
    "        continue\n",
    "    my_words += hannanum.nouns(a_line)\n",
    "    \n",
    "my_words_2 = [\"\"]\n",
    "for a_word in my_words:\n",
    "    if len(a_word) > 1:\n",
    "        my_words_2[0] += \" \" + a_word"
   ]
  },
  {
   "cell_type": "code",
   "execution_count": 61,
   "metadata": {},
   "outputs": [
    {
     "data": {
      "text/plain": [
       "<wordcloud.wordcloud.WordCloud at 0x19d5eac6608>"
      ]
     },
     "execution_count": 61,
     "metadata": {},
     "output_type": "execute_result"
    }
   ],
   "source": [
    "# 워드클라우드\n",
    "a_long_sentence = ' '.join(my_words_2)\n",
    "mask_round = np.array(Image.open(\"mask.jpg\"))\n",
    "\n",
    "wc = WordCloud(font_path=\"c:/Windows/Fonts/malgun.ttf\", background_color='white', \n",
    "               max_words=20, colormap='nipy_spectral', mask=mask_round) \n",
    "wc.generate(a_long_sentence)\n",
    "#wc.words_"
   ]
  },
  {
   "cell_type": "code",
   "execution_count": 62,
   "metadata": {},
   "outputs": [
    {
     "name": "stdout",
     "output_type": "stream",
     "text": [
      "1 위 :  할인\n",
      "2 위 :  혜택\n",
      "3 위 :  프로모션\n",
      "4 위 :  캐쉬백\n",
      "5 위 :  특별\n",
      "6 위 :  카드\n",
      "7 위 :  최대 할인\n",
      "8 위 :  패키지\n",
      "9 위 :  적립\n",
      "10 위 :  체크\n"
     ]
    }
   ],
   "source": [
    "for i, n in zip(wc.words_.keys(), range(1, 11)):\n",
    "    print(n, \"위 : \", i)"
   ]
  },
  {
   "cell_type": "code",
   "execution_count": 63,
   "metadata": {},
   "outputs": [
    {
     "data": {
      "image/png": "[encoded data removed]",
      "text/plain": [
       "<Figure size 360x360 with 1 Axes>"
      ]
     },
     "metadata": {
      "needs_background": "light"
     },
     "output_type": "display_data"
    }
   ],
   "source": [
    "plt.figure(figsize=(5,5))\n",
    "plt.imshow(wc, interpolation='bilinear')\n",
    "plt.axis(\"off\")\n",
    "plt.show()"
   ]
  },
  {
   "cell_type": "code",
   "execution_count": 64,
   "metadata": {},
   "outputs": [],
   "source": [
    "n = 2                                                            # Can be changed to a number equal or larger than 2.\n",
    "n_min = n\n",
    "n_max = n\n",
    "n_gram_type = 'word'                                             # n-Gram with words.\n",
    "vectorizer = CountVectorizer(ngram_range=(n_min,n_max), analyzer = n_gram_type)"
   ]
  },
  {
   "cell_type": "code",
   "execution_count": 65,
   "metadata": {},
   "outputs": [],
   "source": [
    "n_grams = vectorizer.fit(my_words_2).get_feature_names()            # Get the n-Grams as a list.\n",
    "n_gram_cts = vectorizer.transform(my_words_2).toarray()             #  The output is an array of array.\n",
    "n_gram_cts = list(n_gram_cts[0])                                 # Convert into a simple list."
   ]
  },
  {
   "cell_type": "code",
   "execution_count": 66,
   "metadata": {},
   "outputs": [
    {
     "data": {
      "text/plain": [
       "[('최대 할인', 11),\n",
       " ('쇼핑 제휴몰', 8),\n",
       " ('청구할인 혜택', 8),\n",
       " ('다이닝 서비스', 7),\n",
       " ('만원 써프라이즈', 7),\n",
       " ('문화 방법', 7),\n",
       " ('방법 월간', 7),\n",
       " ('월간 컬처', 7),\n",
       " ('체크 혜택', 6),\n",
       " ('국내 해외', 4)]"
      ]
     },
     "execution_count": 66,
     "metadata": {},
     "output_type": "execute_result"
    }
   ],
   "source": [
    "res_dict = {}\n",
    "for z, zz in zip(n_grams, n_gram_cts):\n",
    "    res_dict[z] = zz\n",
    "res_dict = sorted(res_dict.items(), key=(lambda x: x[1]), reverse=True)\n",
    "res_dict[:10]"
   ]
  },
  {
   "cell_type": "code",
   "execution_count": 67,
   "metadata": {},
   "outputs": [],
   "source": [
    "def predict(text):\n",
    "    n = 0\n",
    "    print(text, \"--->\", end=\" \")\n",
    "    for i in range(len(res_dict)):\n",
    "        if text == res_dict[i][0].split(\" \")[0]:\n",
    "            print(res_dict[i][0].split(\" \")[1], end=\" \")\n",
    "            n += 1\n",
    "        if n == 10:\n",
    "            break\n",
    "    print(\"\")\n",
    "    \n",
    "def predict_arr(arr):\n",
    "    for i in arr:\n",
    "        predict(i)"
   ]
  },
  {
   "cell_type": "code",
   "execution_count": 68,
   "metadata": {},
   "outputs": [
    {
     "name": "stdout",
     "output_type": "stream",
     "text": [
      "혜택 ---> 다이닝 실화 카드 경품 국내 글로벌 라발레 롯데워터파크 만원 매직 \n",
      "할인 ---> 문화 삼성화재 해외호텔 공부 교직원복지 금호리조트 다이닝 두타면세점 롯데면세점 마켓 \n",
      "프로모션 ---> 다이닝 그랜드 던킨도너츠 라운지 레스토랑 면세점 뮤즈투나잇 뮤직메이트 베베숲 부산 \n",
      "캐쉬백 ---> 문화 레진코믹스 서른일곱번 서울랜드 손해보험 제주 주는거 체크 최대 카드 \n",
      "특별 ---> 프로모션 혜택 가족 서른아홉번 서비스 손해보험 얼리버드 웨이하이포인트 패키지 \n"
     ]
    }
   ],
   "source": [
    "predict_arr(['혜택', '할인', '프로모션', '캐쉬백', '특별'])"
   ]
  },
  {
   "cell_type": "code",
   "execution_count": 69,
   "metadata": {},
   "outputs": [
    {
     "name": "stdout",
     "output_type": "stream",
     "text": [
      "여행 ---> 계절 최대 파크 해외여행자보험 현장 \n",
      "맛집 ---> 삼성화재 \n",
      "종합 ---> \n",
      "오늘 ---> \n",
      "개최 ---> \n",
      "서울 ---> 맞이 프라이빗 할인 \n",
      "부산 ---> 다모 새봄 오션 화미주헤 \n",
      "올해 ---> \n",
      "제주 ---> 히든 객실 고메 만원 예약 인조 카드 퍼시픽랜드 해비치 \n",
      "공개 ---> \n"
     ]
    }
   ],
   "source": [
    "predict_arr(['여행', '맛집', '종합', '오늘', '개최', \n",
    "           '서울', '부산', '올해', '제주', '공개'])"
   ]
  }
 ],
 "metadata": {
  "kernelspec": {
   "display_name": "Python 3",
   "language": "python",
   "name": "python3"
  },
  "language_info": {
   "codemirror_mode": {
    "name": "ipython",
    "version": 3
   },
   "file_extension": ".py",
   "mimetype": "text/x-python",
   "name": "python",
   "nbconvert_exporter": "python",
   "pygments_lexer": "ipython3",
   "version": "3.7.4"
  },
  "toc": {
   "base_numbering": 1,
   "nav_menu": {},
   "number_sections": true,
   "sideBar": true,
   "skip_h1_title": false,
   "title_cell": "Table of Contents",
   "title_sidebar": "Contents",
   "toc_cell": false,
   "toc_position": {
    "height": "calc(100% - 180px)",
    "left": "10px",
    "top": "150px",
    "width": "165px"
   },
   "toc_section_display": true,
   "toc_window_display": true
  },
  "varInspector": {
   "cols": {
    "lenName": 16,
    "lenType": 16,
    "lenVar": 40
   },
   "kernels_config": {
    "python": {
     "delete_cmd_postfix": "",
     "delete_cmd_prefix": "del ",
     "library": "var_list.py",
     "varRefreshCmd": "print(var_dic_list())"
    },
    "r": {
     "delete_cmd_postfix": ") ",
     "delete_cmd_prefix": "rm(",
     "library": "var_list.r",
     "varRefreshCmd": "cat(var_dic_list()) "
    }
   },
   "types_to_exclude": [
    "module",
    "function",
    "builtin_function_or_method",
    "instance",
    "_Feature"
   ],
   "window_display": false
  }
 },
 "nbformat": 4,
 "nbformat_minor": 2
}
